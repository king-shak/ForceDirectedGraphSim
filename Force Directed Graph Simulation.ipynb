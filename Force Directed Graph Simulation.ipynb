{
 "cells": [
  {
   "cell_type": "markdown",
   "id": "f9ece5c2",
   "metadata": {},
   "source": [
    "# Force Directed Graph Sim\n",
    "#### Authors: Shakeel Khan\n",
    "\n",
    "First, our imports."
   ]
  },
  {
   "cell_type": "code",
   "execution_count": null,
   "id": "d145cbcc",
   "metadata": {},
   "outputs": [],
   "source": [
    "from Graph import Graph, Node\n",
    "from math import log, pow\n",
    "import random\n",
    "import numpy as np\n",
    "import matplotlib.pyplot as plt"
   ]
  },
  {
   "cell_type": "markdown",
   "id": "48a84355",
   "metadata": {},
   "source": [
    "Define the constants. These are the constants for the sim:"
   ]
  },
  {
   "cell_type": "code",
   "execution_count": null,
   "id": "b60b1aa8",
   "metadata": {},
   "outputs": [],
   "source": [
    "# Sim constant definitions.\n",
    "NUM_STEPS = 250\n",
    "NUM_NODES = 20        # Don't exceed 30.\n",
    "NODES_PER_GROUP = 5"
   ]
  },
  {
   "cell_type": "markdown",
   "id": "04806e89",
   "metadata": {},
   "source": [
    "And these are used in the calculations for the attractive and repelling forces between the nodes. There is a comment for each of them describing how I interpeted them. This is because the paper itself just calls them C1-C4, and goes \"here is a reccomended set of values\" with no further explanation, and I figured it would be beneficial to understand the role these constants play in the calculation of these forces."
   ]
  },
  {
   "cell_type": "code",
   "execution_count": null,
   "id": "54edc62f",
   "metadata": {},
   "outputs": [],
   "source": [
    "C1 = 2.0    # This is the strength of the attractive force.\n",
    "C2 = 10.0   # This is the distance desired between nodes\n",
    "C3 = 5.0    # This is the strength of the repelling force.\n",
    "C4 = 1.0    # This is the effective speed of the nodes."
   ]
  },
  {
   "cell_type": "markdown",
   "id": "260faaf7",
   "metadata": {},
   "source": [
    "Now we define our graph, create the nodes, and the edges in between.\n",
    "\n",
    "Here's a quick rundown for those of you who'd like to tinker with it.\n",
    "\n",
    "# Working With the `Graph` Class\n",
    "## Creating an Instance of the Class\n"
   ]
  },
  {
   "cell_type": "code",
   "execution_count": null,
   "id": "0f78b1d4",
   "metadata": {},
   "outputs": [],
   "source": [
    "# Now we define our graph.\n",
    "graph = Graph()\n",
    "nodes = []\n",
    "\n",
    "# This is used to make sure the starting position of each node is unique.\n",
    "def isUniquePos(pos):\n",
    "    for node in nodes:\n",
    "        if np.array_equal(pos, node.position):\n",
    "            return False\n",
    "    return True\n",
    "\n",
    "# Create our nodes.\n",
    "random.seed(a = 10)\n",
    "for i in range(NUM_NODES):\n",
    "    # Keep generating random positions till we get something unique.\n",
    "    x = random.randrange(320, 340, 1)\n",
    "    y = random.randrange(240, 260, 1)\n",
    "\n",
    "    pos = np.array([x, y], dtype=np.double)\n",
    "    while (not isUniquePos(pos)):\n",
    "        pos[0] = random.randrange(320, 340, 1)\n",
    "        pos[1] = random.randrange(240, 260, 1)\n",
    "\n",
    "    # Create the label for the node.\n",
    "    label = str(i)\n",
    "\n",
    "    # If this is the 'leader' of a group (it's directly connected to all the\n",
    "    # nodes in the group).\n",
    "    if (i % NODES_PER_GROUP == 0):\n",
    "        label += '***'\n",
    "\n",
    "    # Create the node, add it to our list and add it to the graph.\n",
    "    node = Node(label, pos)\n",
    "    nodes.append(node)\n",
    "    graph.addNode(node)\n",
    "\n",
    "# Create the edges.\n",
    "# TODO: Clean this up to model groups which actually would appear in ProVis.\n",
    "#       (Having one node sticking out from the \"leader\" of the group which\n",
    "#        used to connect to the other groups).\n",
    "# TODO: Try to add a way to add other disjoint groups.\n",
    "for i in range(0, NUM_NODES, NODES_PER_GROUP):\n",
    "    if (i != 0 and i != NUM_NODES):\n",
    "        graph.addEdge(nodes[i - NODES_PER_GROUP].id, nodes[i].id)\n",
    "        print('***(' + str(i - NODES_PER_GROUP) + ', ' + str(i) + ')')\n",
    "    stop = i + NODES_PER_GROUP\n",
    "    if (stop > NUM_NODES):\n",
    "        stop = NUM_NODES - i\n",
    "    for j in range (i + 1, stop):\n",
    "        graph.addEdge(nodes[i].id, nodes[j].id)\n",
    "        print('(' + str(i) + ', ' + str(j) + ')')\n",
    "\n",
    "# This was originally here for debugging purposes when implementing the graph,\n",
    "# and is no longer necessary.\n",
    "# graph.print()"
   ]
  },
  {
   "cell_type": "code",
   "execution_count": null,
   "id": "8645b975",
   "metadata": {},
   "outputs": [],
   "source": []
  },
  {
   "cell_type": "code",
   "execution_count": null,
   "id": "07785578",
   "metadata": {},
   "outputs": [],
   "source": []
  },
  {
   "cell_type": "code",
   "execution_count": null,
   "id": "e637b259",
   "metadata": {},
   "outputs": [],
   "source": []
  },
  {
   "cell_type": "code",
   "execution_count": null,
   "id": "d6e91b11",
   "metadata": {},
   "outputs": [],
   "source": []
  }
 ],
 "metadata": {
  "kernelspec": {
   "display_name": "Python 3",
   "language": "python",
   "name": "python3"
  },
  "language_info": {
   "codemirror_mode": {
    "name": "ipython",
    "version": 3
   },
   "file_extension": ".py",
   "mimetype": "text/x-python",
   "name": "python",
   "nbconvert_exporter": "python",
   "pygments_lexer": "ipython3",
   "version": "3.8.8"
  }
 },
 "nbformat": 4,
 "nbformat_minor": 5
}
